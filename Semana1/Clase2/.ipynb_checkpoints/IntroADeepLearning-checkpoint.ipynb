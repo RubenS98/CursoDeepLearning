{
 "cells": [
  {
   "cell_type": "markdown",
   "metadata": {},
   "source": [
    "# Introducción a Deep Learning\n",
    "\n",
    "Este es el taller introductorio a cómo funciona Deep Learning. Si no sabes Python, no te preocupes, es muy fácil de utilizar. Esto es un cuaderno de Jupyter. Los cuadernos de Jupyter son muy útiles ya que permiten tener celdas de texto (como esta) y celdas de Python. Todo se mantiene en un ambiente, por lo cuál las variables se mantienen mientras tengas el cuaderno abierto. Esto quiere decir que podemos utilizar variables de una celda en otra celda. Este cuaderno sólo está para ayudarte a empezar con las herramientas que vamos a utilizar. Al final hay una sección con las soluciones a los problemas."
   ]
  },
  {
   "cell_type": "markdown",
   "metadata": {},
   "source": [
    "En la siguiente celda importamos dos librerías que vamos a utilizar: pandas y numpy.\n",
    "    \n",
    "* [Pandas](https://pandas.pydata.org/): Estructuras de datos fáciles de usar para información más compleja. Aquí sólo vamos a utilizar [DataFrame](https://pandas.pydata.org/pandas-docs/stable/generated/pandas.DataFrame.html), una estructura muy similar a una tabla. \n",
    "* [NumPy](http://www.numpy.org/): Esta librería la vamos a usar extensivamente a través del curso. NumPy tiene herramientas para computación científica muy potentes. Por ejemplo, utilizaremos numpy.array, los cuales son mucho más compactos. Esto es muy importante cuando empecemos a utilizar cientos de miles de ejemplos. [Una explicación un poco más detallada](https://stackoverflow.com/questions/993984/why-numpy-instead-of-python-lists)."
   ]
  },
  {
   "cell_type": "code",
   "execution_count": 271,
   "metadata": {
    "collapsed": true
   },
   "outputs": [],
   "source": [
    "import pandas as pd\n",
    "import numpy as np"
   ]
  },
  {
   "cell_type": "markdown",
   "metadata": {},
   "source": [
    "Si eres completamente nuevo en Python, no te preocupes. Python tiene una sintaxis muy sencilla y concisa, por lo que es muy fácil de aprender mientras vayas desarrollando."
   ]
  },
  {
   "cell_type": "code",
   "execution_count": 267,
   "metadata": {
    "collapsed": true
   },
   "outputs": [],
   "source": [
    "test = \"Hola mundo\""
   ]
  },
  {
   "cell_type": "code",
   "execution_count": 268,
   "metadata": {},
   "outputs": [
    {
     "name": "stdout",
     "output_type": "stream",
     "text": [
      "test:  Hola mundo\n"
     ]
    }
   ],
   "source": [
    "print(\"test: \", test)"
   ]
  },
  {
   "cell_type": "markdown",
   "metadata": {
    "collapsed": true
   },
   "source": [
    "## Intro a Python\n",
    "Empezaremos con una introducción de Python. Esta será breve porque Python es sencillo y hay muchos recursos donde aprenderlo en muy poco tiempo. Si te sientes cómodo con Python, salta a la sección del Perceptrón.\n",
    "\n",
    "Esto es una variable. Como ven, no se "
   ]
  },
  {
   "cell_type": "markdown",
   "metadata": {},
   "source": [
    "## Perceptrón"
   ]
  },
  {
   "cell_type": "markdown",
   "metadata": {},
   "source": [
    "En esta sección vamos a implementar un perceptrón básico. Este perceptrón funcionará como una compuerta AND. No te desmotives si no lograr encontrar la solución, al final están las soluciones."
   ]
  },
  {
   "cell_type": "code",
   "execution_count": 6,
   "metadata": {
    "collapsed": true
   },
   "outputs": [],
   "source": [
    "# TODO: Asignar los pesos y el bias para una compuerta AND\n",
    "weight1 = 1\n",
    "weight2 = 1\n",
    "bias = 0"
   ]
  },
  {
   "cell_type": "code",
   "execution_count": 7,
   "metadata": {},
   "outputs": [
    {
     "name": "stdout",
     "output_type": "stream",
     "text": [
      "Tuviste 3 errores.  ¡Sigue intentando!\n",
      "\n",
      "Input 1    Input 2    Combinacion Lineal    Activation Output   Es correcto\n",
      "      0          0                     0                    1            No\n",
      "      0          1                     1                    1            No\n",
      "      1          0                     1                    1            No\n",
      "      1          1                     2                    1            Si\n"
     ]
    }
   ],
   "source": [
    "# No cambies lo siguiente\n",
    "\n",
    "# Estos son los cuatro casos de la tabla de verdad que vamos a probar.\n",
    "test_inputs = [(0, 0), (0, 1), (1, 0), (1, 1)]\n",
    "correct_outputs = [False, False, False, True]\n",
    "outputs = []\n",
    "\n",
    "# Vamos a ir generando el output y viendo si la respuesta está bien\n",
    "for test_input, correct_output in zip(test_inputs, correct_outputs):\n",
    "    # Aquí sumamos la multiplicación de las entradas con sus pesos, más el bias.\n",
    "    linear_combination = weight1 * test_input[0] + weight2 * test_input[1] + bias\n",
    "    \n",
    "    # Si la combinación lineal es positiva, el perceptrón se encenderá\n",
    "    output = int(linear_combination >= 0)\n",
    "    \n",
    "    # Revisamos si la respuesta está bien\n",
    "    is_correct_string = 'Si' if output == correct_output else 'No'\n",
    "    outputs.append([test_input[0], test_input[1], linear_combination, output, is_correct_string])\n",
    "\n",
    "# Print output\n",
    "num_wrong = len([output[4] for output in outputs if output[4] == 'No'])\n",
    "output_frame = pd.DataFrame(outputs, columns=['Input 1', '  Input 2', '  Combinacion Lineal', '  Activation Output', '  Es correcto'])\n",
    "if not num_wrong:\n",
    "    print('¡Muy bien!  Tuviste todas bien.\\n')\n",
    "else:\n",
    "    print('Tuviste {} errores.  ¡Sigue intentando!\\n'.format(num_wrong))\n",
    "print(output_frame.to_string(index=False))\n"
   ]
  },
  {
   "cell_type": "markdown",
   "metadata": {},
   "source": [
    "## Funciones de Activación"
   ]
  },
  {
   "cell_type": "code",
   "execution_count": 87,
   "metadata": {},
   "outputs": [
    {
     "name": "stdout",
     "output_type": "stream",
     "text": [
      "Output: 0.432907095035\n",
      "El output está bien\n"
     ]
    }
   ],
   "source": [
    "def sigmoid(x):\n",
    "    \"\"\"\n",
    "    TODO: Implement sigmoid function\n",
    "    \n",
    "    Arguments:\n",
    "    x: A list\n",
    "    \n",
    "    Return:\n",
    "    s: The sigmoid of x\n",
    "    \"\"\" \n",
    "    return 1/(1 + np.exp(-x))\n",
    "\n",
    "inputs = np.array([0.7, -0.3])\n",
    "weights = np.array([0.1, 0.8])\n",
    "bias = -0.1\n",
    "\n",
    "# TODO: Calcular el output (usa la función sigmoidal)\n",
    "output = sigmoid(inputs.dot(weights) + bias)\n",
    "\n",
    "print('Output:', output)\n",
    "\n",
    "if int(output*10000) == 4329:\n",
    "    print(\"El output está bien\")\n",
    "else:\n",
    "    print(\"El output está mal\")"
   ]
  },
  {
   "cell_type": "code",
   "execution_count": 88,
   "metadata": {},
   "outputs": [
    {
     "data": {
      "text/plain": [
       "0.0066928509242848554"
      ]
     },
     "execution_count": 88,
     "metadata": {},
     "output_type": "execute_result"
    }
   ],
   "source": [
    "sigmoid(-5)"
   ]
  },
  {
   "cell_type": "code",
   "execution_count": 89,
   "metadata": {},
   "outputs": [
    {
     "data": {
      "text/plain": [
       "0.99330714907571527"
      ]
     },
     "execution_count": 89,
     "metadata": {},
     "output_type": "execute_result"
    }
   ],
   "source": [
    "sigmoid(5)"
   ]
  },
  {
   "cell_type": "code",
   "execution_count": 90,
   "metadata": {},
   "outputs": [
    {
     "data": {
      "text/plain": [
       "0.5"
      ]
     },
     "execution_count": 90,
     "metadata": {},
     "output_type": "execute_result"
    }
   ],
   "source": [
    "sigmoid(0)"
   ]
  },
  {
   "cell_type": "code",
   "execution_count": 270,
   "metadata": {},
   "outputs": [
    {
     "data": {
      "text/plain": [
       "0.95257412682243336"
      ]
     },
     "execution_count": 270,
     "metadata": {},
     "output_type": "execute_result"
    }
   ],
   "source": [
    "sigmoid(3)"
   ]
  },
  {
   "cell_type": "code",
   "execution_count": 272,
   "metadata": {},
   "outputs": [
    {
     "data": {
      "text/plain": [
       "array([ 0.73105858,  0.88079708,  0.95257413])"
      ]
     },
     "execution_count": 272,
     "metadata": {},
     "output_type": "execute_result"
    }
   ],
   "source": [
    "x = np.array([1, 2, 3])\n",
    "sigmoid(x)"
   ]
  },
  {
   "cell_type": "markdown",
   "metadata": {},
   "source": [
    "## Feedforward"
   ]
  },
  {
   "cell_type": "markdown",
   "metadata": {},
   "source": [
    "![title](nn_2_1_student_notation1.png)"
   ]
  },
  {
   "cell_type": "code",
   "execution_count": 225,
   "metadata": {},
   "outputs": [
    {
     "name": "stdout",
     "output_type": "stream",
     "text": [
      "[ 8.5  9.5]\n",
      "[ 0.33  0.25]\n"
     ]
    }
   ],
   "source": [
    "input = np.array([8.5, 9.5])\n",
    "weights_input_output = np.array([0.33, 0.25])\n",
    "\n",
    "print(input)\n",
    "print(weights_input_output)"
   ]
  },
  {
   "cell_type": "code",
   "execution_count": 226,
   "metadata": {},
   "outputs": [
    {
     "data": {
      "text/plain": [
       "0.67999999999999972"
      ]
     },
     "execution_count": 226,
     "metadata": {},
     "output_type": "execute_result"
    }
   ],
   "source": [
    "bias = -4.5\n",
    "result = input.dot(weights_input_output) + bias\n",
    "result"
   ]
  },
  {
   "cell_type": "code",
   "execution_count": 227,
   "metadata": {},
   "outputs": [
    {
     "data": {
      "text/plain": [
       "0.66373869740435254"
      ]
     },
     "execution_count": 227,
     "metadata": {},
     "output_type": "execute_result"
    }
   ],
   "source": [
    "result = sigmoid(result)\n",
    "result"
   ]
  },
  {
   "cell_type": "code",
   "execution_count": 234,
   "metadata": {
    "collapsed": true
   },
   "outputs": [],
   "source": [
    "def feed_forward(input):\n",
    "    \"\"\" Función que hace el cálculo \"\"\"\n",
    "    weights_input_output = np.array([0.33, 0.25])\n",
    "    bias = -4.5\n",
    "    return sigmoid(input.dot(weights_input_output) + bias)"
   ]
  },
  {
   "cell_type": "code",
   "execution_count": 235,
   "metadata": {},
   "outputs": [
    {
     "name": "stdout",
     "output_type": "stream",
     "text": [
      "0.663738697404\n",
      "0.257309454697\n",
      "0.345246539394\n",
      "0.733020149239\n",
      "0.423114738868\n",
      "0.605873668432\n"
     ]
    }
   ],
   "source": [
    "print(feed_forward(np.array([8.5, 9.5])))\n",
    "print(feed_forward(np.array([5.5, 6.5])))\n",
    "print(feed_forward(np.array([4.5, 9.5])))\n",
    "print(feed_forward(np.array([9.5, 9.5])))\n",
    "print(feed_forward(np.array([5.5, 9.5])))\n",
    "print(feed_forward(np.array([8.5, 8.5])))"
   ]
  },
  {
   "cell_type": "markdown",
   "metadata": {},
   "source": [
    "## Neural Network"
   ]
  },
  {
   "cell_type": "markdown",
   "metadata": {},
   "source": [
    "![title](nn_2_3_1_student.png)"
   ]
  },
  {
   "cell_type": "code",
   "execution_count": 261,
   "metadata": {},
   "outputs": [
    {
     "name": "stdout",
     "output_type": "stream",
     "text": [
      "[ 8.5  9.5]\n",
      "[[ 0.12  0.04  0.08]\n",
      " [ 0.2   0.03  0.05]]\n"
     ]
    }
   ],
   "source": [
    "input = np.array([8.5, 9.5])\n",
    "weights_input_hidden = np.array([[0.12, 0.04, 0.08], [0.2, 0.03, 0.05]])\n",
    "\n",
    "print(input)\n",
    "print(weights_input_hidden)"
   ]
  },
  {
   "cell_type": "code",
   "execution_count": 262,
   "metadata": {},
   "outputs": [
    {
     "data": {
      "text/plain": [
       "array([ 0.71504211,  0.20181322,  0.30048277])"
      ]
     },
     "execution_count": 262,
     "metadata": {},
     "output_type": "execute_result"
    }
   ],
   "source": [
    "bias = -2\n",
    "hidden = sigmoid(input.dot(weights_input_hidden) + bias)\n",
    "hidden"
   ]
  },
  {
   "cell_type": "code",
   "execution_count": 263,
   "metadata": {},
   "outputs": [
    {
     "data": {
      "text/plain": [
       "0.53458418858404477"
      ]
     },
     "execution_count": 263,
     "metadata": {},
     "output_type": "execute_result"
    }
   ],
   "source": [
    "weights_hidden_output = np.array([1.2, 0.2, 0.3])\n",
    "bias = -0.85\n",
    "result = sigmoid(hidden.dot(weights_hidden_output) + bias)\n",
    "result"
   ]
  },
  {
   "cell_type": "code",
   "execution_count": 264,
   "metadata": {
    "collapsed": true
   },
   "outputs": [],
   "source": [
    "def feed_forward(input):\n",
    "    \"\"\" Función que hace el cálculo \"\"\"\n",
    "    weights_input_output = np.array([[0.12, 0.04, 0.08], [0.2, 0.03, 0.05]])\n",
    "    bias_input_hidden = -2\n",
    "    \n",
    "    weights_hidden_output = np.array([1.2, 0.2, 0.3]).transpose()\n",
    "    bias_hidden_output = -0.85\n",
    "    \n",
    "    hidden = sigmoid(input.dot(weights_input_hidden) + bias_input_hidden)\n",
    "    result = sigmoid(hidden.dot(weights_hidden_output) + bias_hidden_output)\n",
    "    \n",
    "    return result"
   ]
  },
  {
   "cell_type": "code",
   "execution_count": 265,
   "metadata": {},
   "outputs": [
    {
     "name": "stdout",
     "output_type": "stream",
     "text": [
      "0.534584188584\n",
      "0.459988625038\n",
      "0.496672919502\n",
      "0.543280220671\n",
      "0.506536085257\n",
      "0.520877085373\n"
     ]
    }
   ],
   "source": [
    "print(feed_forward(np.array([8.5, 9.5])))\n",
    "print(feed_forward(np.array([5.5, 6.5])))\n",
    "print(feed_forward(np.array([4.5, 9.5])))\n",
    "print(feed_forward(np.array([9.5, 9.5])))\n",
    "print(feed_forward(np.array([5.5, 9.5])))\n",
    "print(feed_forward(np.array([8.5, 8.5])))"
   ]
  },
  {
   "cell_type": "markdown",
   "metadata": {},
   "source": [
    "## Funciones ReLU (Opcional)"
   ]
  },
  {
   "cell_type": "code",
   "execution_count": 215,
   "metadata": {
    "collapsed": true
   },
   "outputs": [],
   "source": [
    "def relu(x):\n",
    "    return np.maximum(x, 0)\n",
    "\n",
    "def feed_forward(input):\n",
    "    \"\"\" Función que hace el cálculo \"\"\"\n",
    "    weights_input_output = np.array([[0.12, 0.2], [0.04, 0.03], [0.08, 0.05]]).transpose()\n",
    "    bias_input_hidden = -2\n",
    "    \n",
    "    weights_hidden_output = np.array([[1.2, 0.2, 0.3]]).transpose()\n",
    "    bias_hidden_output = -0.85\n",
    "    \n",
    "    hidden = relu(input.dot(weights_input_hidden) + bias_input_hidden)\n",
    "    result = sigmoid(hidden.dot(weights_hidden_output) + bias_hidden_output)\n",
    "    \n",
    "    return result"
   ]
  },
  {
   "cell_type": "code",
   "execution_count": 216,
   "metadata": {},
   "outputs": [
    {
     "name": "stdout",
     "output_type": "stream",
     "text": [
      "[ 0.56316079]\n",
      "[ 0.29943286]\n",
      "[ 0.42018841]\n",
      "[ 0.59820704]\n",
      "[ 0.45561712]\n",
      "[ 0.50349994]\n"
     ]
    }
   ],
   "source": [
    "print(feed_forward(np.array([8.5, 9.5])))\n",
    "print(feed_forward(np.array([5.5, 6.5])))\n",
    "print(feed_forward(np.array([4.5, 9.5])))\n",
    "print(feed_forward(np.array([9.5, 9.5])))\n",
    "print(feed_forward(np.array([5.5, 9.5])))\n",
    "print(feed_forward(np.array([8.5, 8.5])))"
   ]
  },
  {
   "cell_type": "markdown",
   "metadata": {},
   "source": [
    "# Soluciones"
   ]
  },
  {
   "cell_type": "code",
   "execution_count": null,
   "metadata": {
    "collapsed": true
   },
   "outputs": [],
   "source": [
    "# TODO: Asignar los pesos y el bias para un AND\n",
    "weight1 = 10\n",
    "weight2 = 10\n",
    "bias = -15\n",
    "\n",
    "# TODO: Implement sigmoid function\n",
    "def sigmoid(x):\n",
    "    # TODO: Implement sigmoid function\n",
    "    return 1/(1 + np.exp(-x))\n",
    "\n",
    "# TODO: Calculate the output\n",
    "output = sigmoid(sum(inputs*weights) + bias)\n",
    "\n",
    "# TODO: Hacer una función que haga el feedforward para cualquier input\n",
    "def feed_forward(input):\n",
    "    weights_input_hidden = np.array([[-0.12, -0.2], [0.04, 0.03], [0.08, 0.05]]).transpose()\n",
    "    weights_hidden_output = np.array([[0.08, .05, 0.05], [0.06, 0.065, 0.5]]).transpose()\n",
    "\n",
    "    hidden = sigmoid(input.dot(weights_input_hidden))\n",
    "    print(\"hidden layer values: \", hidden)\n",
    "    return softmax(hidden.dot(weights_hidden_output))"
   ]
  }
 ],
 "metadata": {
  "kernelspec": {
   "display_name": "Python 3",
   "language": "python",
   "name": "python3"
  },
  "language_info": {
   "codemirror_mode": {
    "name": "ipython",
    "version": 3
   },
   "file_extension": ".py",
   "mimetype": "text/x-python",
   "name": "python",
   "nbconvert_exporter": "python",
   "pygments_lexer": "ipython3",
   "version": "3.5.4"
  }
 },
 "nbformat": 4,
 "nbformat_minor": 2
}
