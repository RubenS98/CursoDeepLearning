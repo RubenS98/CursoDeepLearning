{
 "cells": [
  {
   "cell_type": "markdown",
   "metadata": {},
   "source": [
    "# Introducción a Deep Learning\n",
    "\n",
    "Este es el taller introductorio a cómo funciona Deep Learning. Si no sabes Python, no te preocupes, es muy fácil de utilizar. Esto es un cuaderno de Jupyter. Los cuadernos de Jupyter son muy útiles ya que permiten tener celdas de texto (como esta) y celdas de Python. Todo se mantiene en un ambiente, por lo cuál las variables se mantienen mientras tengas el cuaderno abierto. Esto quiere decir que podemos utilizar variables de una celda en otra celda. Este cuaderno sólo está para ayudarte a empezar con las herramientas que vamos a utilizar. Al final hay una sección con las soluciones a los problemas."
   ]
  },
  {
   "cell_type": "markdown",
   "metadata": {},
   "source": [
    "En la siguiente celda importamos dos librerías que vamos a utilizar: pandas y numpy.\n",
    "    \n",
    "* [Pandas](https://pandas.pydata.org/): Estructuras de datos fáciles de usar para información más compleja. Aquí sólo vamos a utilizar [DataFrame](https://pandas.pydata.org/pandas-docs/stable/generated/pandas.DataFrame.html), una estructura muy similar a una tabla. \n",
    "* [NumPy](http://www.numpy.org/): Esta librería la vamos a usar extensivamente a través del curso. NumPy tiene herramientas para computación científica muy potentes. Por ejemplo, utilizaremos numpy.array, los cuales son mucho más compactos. Esto es muy importante cuando empecemos a utilizar cientos de miles de ejemplos. [Una explicación un poco más detallada](https://stackoverflow.com/questions/993984/why-numpy-instead-of-python-lists)."
   ]
  },
  {
   "cell_type": "code",
   "execution_count": 3,
   "metadata": {
    "collapsed": true
   },
   "outputs": [],
   "source": [
    "import pandas as pd\n",
    "import numpy as np"
   ]
  },
  {
   "cell_type": "markdown",
   "metadata": {},
   "source": [
    "Si eres completamente nuevo en Python, no te preocupes. Python tiene una sintaxis muy sencilla y concisa, por lo que es muy fácil de aprender mientras vayas desarrollando."
   ]
  },
  {
   "cell_type": "markdown",
   "metadata": {},
   "source": [
    "## Perceptrón"
   ]
  },
  {
   "cell_type": "code",
   "execution_count": 6,
   "metadata": {
    "collapsed": true
   },
   "outputs": [],
   "source": [
    "# TODO: Asignar los pesos y el bias para una compuerta AND\n",
    "weight1 = 1\n",
    "weight2 = 1\n",
    "bias = 0"
   ]
  },
  {
   "cell_type": "code",
   "execution_count": 7,
   "metadata": {},
   "outputs": [
    {
     "name": "stdout",
     "output_type": "stream",
     "text": [
      "Tuviste 3 errores.  ¡Sigue intentando!\n",
      "\n",
      "Input 1    Input 2    Combinacion Lineal    Activation Output   Es correcto\n",
      "      0          0                     0                    1            No\n",
      "      0          1                     1                    1            No\n",
      "      1          0                     1                    1            No\n",
      "      1          1                     2                    1            Si\n"
     ]
    }
   ],
   "source": [
    "# No cambies lo siguiente\n",
    "\n",
    "# Estos son los cuatro casos de la tabla de verdad que vamos a probar.\n",
    "test_inputs = [(0, 0), (0, 1), (1, 0), (1, 1)]\n",
    "correct_outputs = [False, False, False, True]\n",
    "outputs = []\n",
    "\n",
    "# Vamos a ir generando el output y viendo si la respuesta está bien\n",
    "for test_input, correct_output in zip(test_inputs, correct_outputs):\n",
    "    # Aquí sumamos la multiplicación de las entradas con sus pesos, más el bias.\n",
    "    linear_combination = weight1 * test_input[0] + weight2 * test_input[1] + bias\n",
    "    \n",
    "    # Si la combinación lineal es positiva, el perceptrón se encenderá\n",
    "    output = int(linear_combination >= 0)\n",
    "    \n",
    "    # Revisamos si la respuesta está bien\n",
    "    is_correct_string = 'Si' if output == correct_output else 'No'\n",
    "    outputs.append([test_input[0], test_input[1], linear_combination, output, is_correct_string])\n",
    "\n",
    "# Print output\n",
    "num_wrong = len([output[4] for output in outputs if output[4] == 'No'])\n",
    "output_frame = pd.DataFrame(outputs, columns=['Input 1', '  Input 2', '  Combinacion Lineal', '  Activation Output', '  Es correcto'])\n",
    "if not num_wrong:\n",
    "    print('¡Muy bien!  Tuviste todas bien.\\n')\n",
    "else:\n",
    "    print('Tuviste {} errores.  ¡Sigue intentando!\\n'.format(num_wrong))\n",
    "print(output_frame.to_string(index=False))\n"
   ]
  },
  {
   "cell_type": "markdown",
   "metadata": {},
   "source": [
    "## Funciones de Activación"
   ]
  },
  {
   "cell_type": "code",
   "execution_count": 190,
   "metadata": {},
   "outputs": [
    {
     "name": "stdout",
     "output_type": "stream",
     "text": [
      "Output: 0.432907095035\n",
      "El output está bien\n"
     ]
    }
   ],
   "source": [
    "def sigmoid(x):\n",
    "    # TODO: Implement sigmoid function\n",
    "    return 1/(1 + np.exp(-x))\n",
    "\n",
    "inputs = np.array([0.7, -0.3])\n",
    "weights = np.array([0.1, 0.8])\n",
    "bias = -0.1\n",
    "\n",
    "# TODO: Calcular el output (usa la función sigmoidal)\n",
    "output = sigmoid(inputs.dot(weights) + bias)\n",
    "\n",
    "print('Output:', output)\n",
    "\n",
    "if int(output*10000) == 4329:\n",
    "    print(\"El output está bien\")\n",
    "else:\n",
    "    print(\"El output está mal\")"
   ]
  },
  {
   "cell_type": "code",
   "execution_count": 137,
   "metadata": {
    "collapsed": true
   },
   "outputs": [],
   "source": [
    "def softmax(x):\n",
    "    \"\"\"Compute softmax values for each sets of values in x\"\"\"\n",
    "    e_x = np.exp(x - np.max(x))\n",
    "    return e_x / e_x.sum()"
   ]
  },
  {
   "cell_type": "code",
   "execution_count": null,
   "metadata": {
    "collapsed": true
   },
   "outputs": [],
   "source": []
  },
  {
   "cell_type": "markdown",
   "metadata": {},
   "source": [
    "## Feedforward"
   ]
  },
  {
   "cell_type": "code",
   "execution_count": 189,
   "metadata": {},
   "outputs": [
    {
     "name": "stdout",
     "output_type": "stream",
     "text": [
      "[ 8.5  9.5]\n",
      "[[ 0.12  0.04  0.08]\n",
      " [-0.2   0.03  0.05]]\n"
     ]
    }
   ],
   "source": [
    "input = np.array([8.5, 9.5])\n",
    "weights_input_hidden = np.array([[0.12, -0.2], [0.04, 0.03], [0.08, 0.05]]).transpose()\n",
    "\n",
    "print(input)\n",
    "print(weights_input_hidden)"
   ]
  },
  {
   "cell_type": "code",
   "execution_count": 126,
   "metadata": {},
   "outputs": [
    {
     "data": {
      "text/plain": [
       "array([-0.88 ,  0.625,  1.155])"
      ]
     },
     "execution_count": 126,
     "metadata": {},
     "output_type": "execute_result"
    }
   ],
   "source": [
    "result = input.dot(weights_input_hidden)\n",
    "result"
   ]
  },
  {
   "cell_type": "code",
   "execution_count": 128,
   "metadata": {},
   "outputs": [
    {
     "data": {
      "text/plain": [
       "array([ 0.29317778,  0.65135486,  0.760423  ])"
      ]
     },
     "execution_count": 128,
     "metadata": {},
     "output_type": "execute_result"
    }
   ],
   "source": [
    "hidden = sigmoid(result)\n",
    "hidden"
   ]
  },
  {
   "cell_type": "code",
   "execution_count": 191,
   "metadata": {},
   "outputs": [
    {
     "data": {
      "text/plain": [
       "array([[ 0.8,  0.2],\n",
       "       [ 0.5,  0.3],\n",
       "       [ 0.5,  0.5]])"
      ]
     },
     "execution_count": 191,
     "metadata": {},
     "output_type": "execute_result"
    }
   ],
   "source": [
    "weights_hidden_output = np.array([[0.8, 0.5, 0.5], [0.2, 0.3, 0.5]]).transpose()\n",
    "weights_hidden_output"
   ]
  },
  {
   "cell_type": "code",
   "execution_count": 184,
   "metadata": {
    "collapsed": true
   },
   "outputs": [],
   "source": [
    "def feed_forward(input):\n",
    "    weights_input_hidden = np.array([[-0.12, -0.2], [0.04, 0.03], [0.08, 0.05]]).transpose()\n",
    "    weights_hidden_output = np.array([[0.08, .05, 0.05], [0.06, 0.065, 0.5]]).transpose()\n",
    "\n",
    "    hidden = sigmoid(input.dot(weights_input_hidden))\n",
    "    print(\"hidden layer values: \", hidden)\n",
    "    return softmax(hidden.dot(weights_hidden_output))"
   ]
  },
  {
   "cell_type": "code",
   "execution_count": 185,
   "metadata": {},
   "outputs": [
    {
     "name": "stdout",
     "output_type": "stream",
     "text": [
      "hidden layer values:  [ 0.0511737   0.65135486  0.760423  ]\n",
      "[ 0.51866202  0.60482728]\n",
      "hidden layer values:  [ 0.12346705  0.60228618  0.6824383 ]\n",
      "[ 0.51851992  0.59574715]\n",
      "hidden layer values:  [ 0.08017291  0.61419964  0.69741111]\n",
      "[ 0.51799082  0.59711027]\n",
      "hidden layer values:  [ 0.04565117  0.66038267  0.77469249]\n",
      "[ 0.51884254  0.60659224]\n"
     ]
    }
   ],
   "source": [
    "print(feed_forward(np.array([8.5, 9.5])))\n",
    "print(feed_forward(np.array([5.5, 6.5])))\n",
    "print(feed_forward(np.array([4.5, 9.5])))\n",
    "print(feed_forward(np.array([9.5, 9.5])))"
   ]
  },
  {
   "cell_type": "markdown",
   "metadata": {},
   "source": [
    "# Soluciones"
   ]
  },
  {
   "cell_type": "code",
   "execution_count": null,
   "metadata": {
    "collapsed": true
   },
   "outputs": [],
   "source": [
    "# TODO: Asignar los pesos y el bias para un AND\n",
    "weight1 = 10\n",
    "weight2 = 10\n",
    "bias = -15\n",
    "\n",
    "# TODO: Implement sigmoid function\n",
    "def sigmoid(x):\n",
    "    # TODO: Implement sigmoid function\n",
    "    return 1/(1 + np.exp(-x))\n",
    "\n",
    "# TODO: Calculate the output\n",
    "output = sigmoid(sum(inputs*weights) + bias)\n",
    "\n",
    "# TODO: Hacer una función que haga el feedforward para cualquier input\n",
    "def feed_forward(input):\n",
    "    weights_input_hidden = np.array([[-0.12, -0.2], [0.04, 0.03], [0.08, 0.05]]).transpose()\n",
    "    weights_hidden_output = np.array([[0.08, .05, 0.05], [0.06, 0.065, 0.5]]).transpose()\n",
    "\n",
    "    hidden = sigmoid(input.dot(weights_input_hidden))\n",
    "    print(\"hidden layer values: \", hidden)\n",
    "    return softmax(hidden.dot(weights_hidden_output))"
   ]
  }
 ],
 "metadata": {
  "kernelspec": {
   "display_name": "Python 3",
   "language": "python",
   "name": "python3"
  },
  "language_info": {
   "codemirror_mode": {
    "name": "ipython",
    "version": 3
   },
   "file_extension": ".py",
   "mimetype": "text/x-python",
   "name": "python",
   "nbconvert_exporter": "python",
   "pygments_lexer": "ipython3",
   "version": "3.5.4"
  }
 },
 "nbformat": 4,
 "nbformat_minor": 2
}
